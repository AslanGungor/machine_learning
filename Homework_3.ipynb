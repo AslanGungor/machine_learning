{
 "cells": [
  {
   "cell_type": "code",
   "execution_count": 67,
   "metadata": {},
   "outputs": [],
   "source": [
    "import urllib.request\n",
    "from bs4 import BeautifulSoup as bs\n",
    "import pandas as pd\n",
    "import numpy as np\n",
    "from sklearn.linear_model import LinearRegression"
   ]
  },
  {
   "cell_type": "code",
   "execution_count": 68,
   "metadata": {},
   "outputs": [],
   "source": [
    "a=\"http://sukrubezen.com/kodluyoruz/work.php\""
   ]
  },
  {
   "cell_type": "code",
   "execution_count": 69,
   "metadata": {},
   "outputs": [],
   "source": [
    "x1=[]\n",
    "y1=[]\n",
    "i=0\n",
    "def sayfa_ac(url):\n",
    "    url_oku = urllib.request.urlopen(url)\n",
    "    soup = (bs(url_oku, 'html.parser').text).split()\n",
    "    soup = [int(i) for i in soup]\n",
    "    y1.append(soup.pop())\n",
    "    x1.append(soup)\n",
    "    return x1,y1\n",
    "        \n",
    "while i<150:\n",
    "    x,y = sayfa_ac(a)\n",
    "    i+=1"
   ]
  },
  {
   "cell_type": "code",
   "execution_count": 70,
   "metadata": {
    "scrolled": true
   },
   "outputs": [],
   "source": [
    "x_dtf=pd.DataFrame(data=x)\n",
    "y_dtf=pd.DataFrame(data=y,columns=[\"y\"])"
   ]
  },
  {
   "cell_type": "code",
   "execution_count": 71,
   "metadata": {},
   "outputs": [],
   "source": [
    "Mult_Lin_Reg = LinearRegression()\n",
    "Mult_Lin_Reg.fit(x_dtf,y_dtf)\n",
    "Coef=Mult_Lin_Reg.coef_"
   ]
  },
  {
   "cell_type": "code",
   "execution_count": 72,
   "metadata": {},
   "outputs": [
    {
     "name": "stdout",
     "output_type": "stream",
     "text": [
      "C\n",
      "o\n",
      "n\n",
      "g\n",
      "r\n",
      "a\n",
      "t\n",
      "u\n",
      "l\n",
      "a\n",
      "t\n",
      "i\n",
      "o\n",
      "n\n",
      "s\n",
      "!\n"
     ]
    }
   ],
   "source": [
    "coef=Coef.reshape(16,8)\n",
    "c=list()\n",
    "for i in range(len(coef)):\n",
    "    b=list()\n",
    "    for j in range(len(coef[0])):\n",
    "        coef[i,j]=round(coef[i,j])\n",
    "        b.append(str(int(coef[i,j])))\n",
    "    c.append(\"\".join(b))\n",
    "    print(chr(int(c[i],2)))"
   ]
  },
  {
   "cell_type": "code",
   "execution_count": null,
   "metadata": {},
   "outputs": [],
   "source": []
  }
 ],
 "metadata": {
  "kernelspec": {
   "display_name": "Python 3",
   "language": "python",
   "name": "python3"
  },
  "language_info": {
   "codemirror_mode": {
    "name": "ipython",
    "version": 3
   },
   "file_extension": ".py",
   "mimetype": "text/x-python",
   "name": "python",
   "nbconvert_exporter": "python",
   "pygments_lexer": "ipython3",
   "version": "3.7.4"
  }
 },
 "nbformat": 4,
 "nbformat_minor": 2
}
