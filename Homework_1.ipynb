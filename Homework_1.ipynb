{
 "cells": [
  {
   "cell_type": "code",
   "execution_count": 1,
   "metadata": {},
   "outputs": [],
   "source": [
    "liste   =[100,10,25,45,89,120,110,200]\n",
    "liste_2 =list()\n",
    "\n",
    "for n in range(len(liste)):\n",
    "    liste_2.append(0)\n",
    "    "
   ]
  },
  {
   "cell_type": "code",
   "execution_count": 2,
   "metadata": {},
   "outputs": [
    {
     "name": "stdout",
     "output_type": "stream",
     "text": [
      "0\n",
      "1\n",
      "2\n",
      "3\n",
      "4\n",
      "5\n",
      "6\n",
      "7\n",
      "[120, 25, 45, 89, 120, 200, 200, None]\n"
     ]
    }
   ],
   "source": [
    "for i in range(len(liste)):      \n",
    "    k=i+1                        \n",
    "    liste_2[i]=liste[i]\n",
    "\n",
    "    for j in range(k,len(liste)):                \n",
    "        if liste_2[i]<liste[j]:      #Bulunulan elementten sonraki ilk büyük sayı\n",
    "            liste_2[i]=liste[j]\n",
    "            break          \n",
    "    print(i)       \n",
    "    if i==(len(liste)-1) or liste_2[i]==liste[i]:    #Son Elementten sonra karşılaştıracak birşey yoktur ve kendisinden \n",
    "        liste_2[i]=None                              #sonraki elemanlar küçükse None değeri yazar\n",
    "\n",
    "print(liste_2)"
   ]
  }
 ],
 "metadata": {
  "kernelspec": {
   "display_name": "Python 3",
   "language": "python",
   "name": "python3"
  },
  "language_info": {
   "codemirror_mode": {
    "name": "ipython",
    "version": 3
   },
   "file_extension": ".py",
   "mimetype": "text/x-python",
   "name": "python",
   "nbconvert_exporter": "python",
   "pygments_lexer": "ipython3",
   "version": "3.7.4"
  }
 },
 "nbformat": 4,
 "nbformat_minor": 2
}
